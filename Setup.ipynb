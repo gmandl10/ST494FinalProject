{
 "cells": [
  {
   "cell_type": "code",
   "execution_count": 46,
   "metadata": {},
   "outputs": [],
   "source": [
    "import yfinance as yf\n",
    "from auxillary import *\n",
    "from indicators import *"
   ]
  },
  {
   "cell_type": "code",
   "execution_count": 39,
   "metadata": {},
   "outputs": [],
   "source": [
    "ticker = yf.Ticker(\"AAPL\")\n",
    "df = ticker.history(period = \"max\") \n",
    "df = adjustPrices(df)\n",
    "df[\"10Day_Price_Change\"] = calculateFuturePriceChange(df,10)"
   ]
  },
  {
   "cell_type": "code",
   "execution_count": 40,
   "metadata": {},
   "outputs": [],
   "source": [
    "adx, adx_indicator = calculateADX(df)\n",
    "df[\"ADX\"] = adx\n",
    "df[\"ADX_Indicator\"] = adx_indicator\n",
    "\n",
    "aroonup, aroondown, arooncrossover, aroonindicator = calculateAroon(df)\n",
    "df[\"Aroon_Up\"] = aroonup\n",
    "df[\"Aroon_Down\"] = aroondown\n",
    "df[\"Aroon_Crossover\"] =arooncrossover\n",
    "df[\"Aroon_Indicator\"] = aroonindicator\n",
    "\n",
    "cci, cci_indicator = calculateCCI(df)\n",
    "df[\"CCI\"] = cci\n",
    "df[\"CCI_Indicator\"] = cci_indicator\n",
    "\n",
    "disparity, disparityindicator = calculateDisparity(df)\n",
    "df[\"Disparity\"] = disparity\n",
    "df[\"Disparity_Indicator\"] = disparityindicator\n",
    "\n",
    "kst, kst_crossover = calculateKST(df)\n",
    "df[\"KST\"] = kst\n",
    "df[\"KST_Crossover\"] = kst_crossover\n",
    "\n",
    "macd, macdcrossover = calculateMACD(df)\n",
    "df[\"MACD\"]= macd\n",
    "df[\"MACD_Crossover\"] = macdcrossover\n",
    "\n",
    "df[\"OBV\"] = calculateOBV(df)\n",
    "\n",
    "rsi, rsi_indicator = calculateRSI(df)\n",
    "df[\"RSI\"]= rsi\n",
    "df[\"RSI_Indicator\"] = rsi_indicator\n",
    "\n",
    "rvi, rvi_crossover, rvi_divergence = calculateRVI(df)\n",
    "df[\"RVI\"] = rvi\n",
    "df[\"RVI_Crossover\"] = rvi_crossover\n",
    "df[\"RVI_Divergence\"] = rvi_divergence\n",
    "\n",
    "so, so_signal = calculateStochasticOscillator(df)\n",
    "df[\"Stochastic_Oscillator\"] = so\n",
    "df[\"Stochastic_Oscillator_Indicator\"] = so_signal\n",
    "\n"
   ]
  },
  {
   "cell_type": "code",
   "execution_count": 45,
   "metadata": {},
   "outputs": [],
   "source": [
    "a = input(\"How many trading days in the future would you like to predict\")"
   ]
  }
 ],
 "metadata": {
  "kernelspec": {
   "display_name": "Python 3",
   "language": "python",
   "name": "python3"
  },
  "language_info": {
   "codemirror_mode": {
    "name": "ipython",
    "version": 3
   },
   "file_extension": ".py",
   "mimetype": "text/x-python",
   "name": "python",
   "nbconvert_exporter": "python",
   "pygments_lexer": "ipython3",
   "version": "3.11.1"
  },
  "orig_nbformat": 4
 },
 "nbformat": 4,
 "nbformat_minor": 2
}
