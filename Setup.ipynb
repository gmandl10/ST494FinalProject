{
 "cells": [
  {
   "cell_type": "code",
   "execution_count": 9,
   "metadata": {},
   "outputs": [],
   "source": [
    "import yfinance as yf\n",
    "from auxillary import *\n",
    "from indicators import *\n",
    "from datetime import date\n",
    "from processData import processData"
   ]
  },
  {
   "cell_type": "code",
   "execution_count": 10,
   "metadata": {},
   "outputs": [
    {
     "name": "stdout",
     "output_type": "stream",
     "text": [
      "Enter the ticker symbols of interest (enter spacebar to exit)\n"
     ]
    }
   ],
   "source": [
    "stocks = []\n",
    "print(\"Enter the ticker symbols of interest (enter spacebar to exit)\")\n",
    "s = \"  \"\n",
    "while s != \" \":\n",
    "    s = input(\"Ticker: \")\n",
    "    if s == \" \" and len(stocks) == 0:\n",
    "        print(\"Please enter a ticker symbol\")\n",
    "        s = \"  \"\n",
    "        continue\n",
    "    elif s == \" \":\n",
    "        break\n",
    "    if s.upper() not in stocks:\n",
    "        stocks.append(s.upper())\n",
    "    \n",
    "\n",
    "n = int(input(\"How many trading days in the future would you like to predict? \"))\n",
    "\n"
   ]
  },
  {
   "cell_type": "code",
   "execution_count": 11,
   "metadata": {},
   "outputs": [],
   "source": [
    "general, target, cluster, pc = processData(stocks, n)"
   ]
  }
 ],
 "metadata": {
  "kernelspec": {
   "display_name": "Python 3",
   "language": "python",
   "name": "python3"
  },
  "language_info": {
   "codemirror_mode": {
    "name": "ipython",
    "version": 3
   },
   "file_extension": ".py",
   "mimetype": "text/x-python",
   "name": "python",
   "nbconvert_exporter": "python",
   "pygments_lexer": "ipython3",
   "version": "3.11.1"
  },
  "orig_nbformat": 4
 },
 "nbformat": 4,
 "nbformat_minor": 2
}
