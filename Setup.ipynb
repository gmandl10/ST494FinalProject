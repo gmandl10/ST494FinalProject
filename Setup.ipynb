{
 "cells": [
  {
   "cell_type": "code",
   "execution_count": 1,
   "metadata": {},
   "outputs": [],
   "source": [
    "import yfinance as yf\n",
    "import pandas as pd"
   ]
  },
  {
   "cell_type": "code",
   "execution_count": 2,
   "metadata": {},
   "outputs": [],
   "source": [
    "def calculateADX (df, period = 14):\n",
    "    \"\"\"\n",
    "    Calculates the Average Directional Index (ADX) values for the dataframe\n",
    "\n",
    "    Inputs:\n",
    "        df (DataFrame) - dataframe that contains the data of the equity of interest\n",
    "        period (int) - period to calculate the indidcator on, standard value is 14\n",
    "    Outputs:\n",
    "        adx (Series) - a column containing adx for the corresponding date\n",
    "        pdi (Series) - a column containing postive directional index for the corresponding entry\n",
    "        ndi (Series) - a column containing negative directional index for the corresponding entry\n",
    "    \"\"\"\n",
    "    plus_dm = df[\"High\"].diff()\n",
    "    minus_dm = df[\"Low\"].diff()\n",
    "    plus_dm[plus_dm < 0] = 0\n",
    "    minus_dm[minus_dm > 0] = 0\n",
    "\n",
    "    t1 = pd.DataFrame(df[\"High\"] - df[\"Low\"])\n",
    "    t2 = pd.DataFrame(abs(df[\"High\"] - df[\"Close\"].shift(1)))\n",
    "    t3 = pd.DataFrame(abs(df[\"Low\"] - df[\"Close\"].shift(1)))\n",
    "\n",
    "    tr = pd.concat([t1, t2, t3], axis = 1, join = 'inner').max(axis = 1)\n",
    "    atr = tr.rolling(period).mean()\n",
    "\n",
    "    pdi = 100 * (plus_dm.ewm(alpha = 1/period).mean() / atr)\n",
    "    ndi = abs(100 * (minus_dm.ewm(alpha = 1/period).mean() / atr))\n",
    "    dx = (abs(pdi - ndi) / abs(pdi + ndi)) * 100\n",
    "    adx1 = ((dx.shift(1) * (period - 1)) + dx) / period\n",
    "    adx = adx1.ewm(alpha = 1/period).mean()\n",
    "\n",
    "    adx_indicator = []\n",
    "    adx_indicator.append(\"Neutral\")\n",
    "    i=1\n",
    "\n",
    "    while i < len(adx):\n",
    "        adx1 = adx[i-1]\n",
    "        adx2 = adx[i]\n",
    "\n",
    "        if adx1 < 25 and adx2 > 25 and pdi[i] > ndi[i]:\n",
    "            adx_indicator.append(\"Buy\")\n",
    "        elif adx1 < 25 and adx2 > 25 and ndi[i] > pdi[i]:\n",
    "            adx_indicator.append(\"Sell\")\n",
    "        else:\n",
    "            adx_indicator.append(\"Neutral\")\n",
    "        i+=1\n",
    "        \n",
    "    return adx, adx_indicator"
   ]
  },
  {
   "cell_type": "code",
   "execution_count": null,
   "metadata": {},
   "outputs": [],
   "source": []
  },
  {
   "cell_type": "code",
   "execution_count": 3,
   "metadata": {},
   "outputs": [],
   "source": [
    "ticker = yf.Ticker(\"AAPL\")\n",
    "df = ticker.history(period = \"max\")"
   ]
  }
 ],
 "metadata": {
  "kernelspec": {
   "display_name": "Python 3",
   "language": "python",
   "name": "python3"
  },
  "language_info": {
   "codemirror_mode": {
    "name": "ipython",
    "version": 3
   },
   "file_extension": ".py",
   "mimetype": "text/x-python",
   "name": "python",
   "nbconvert_exporter": "python",
   "pygments_lexer": "ipython3",
   "version": "3.11.1"
  },
  "orig_nbformat": 4
 },
 "nbformat": 4,
 "nbformat_minor": 2
}
